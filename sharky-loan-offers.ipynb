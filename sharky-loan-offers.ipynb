{
 "cells": [
  {
   "cell_type": "code",
   "execution_count": 1,
   "metadata": {},
   "outputs": [],
   "source": [
    "import time\n",
    "import requests\n",
    "import pandas as pd"
   ]
  },
  {
   "cell_type": "code",
   "execution_count": 2,
   "metadata": {},
   "outputs": [],
   "source": [
    "# constants \n",
    "collection_orderbook = 'BENrqx18n8tP2xYPBQ7vaDz88Y7wSmzB1xkr8h4XrhvM'  \n",
    "total_transactions = 100 \n",
    "limit_balances = 100\n",
    "url = \"https://api.mainnet-beta.solana.com\"\n",
    "headers = {\"Content-Type\": \"application/json\"}\n",
    "quick_break = 15"
   ]
  },
  {
   "cell_type": "code",
   "execution_count": 3,
   "metadata": {},
   "outputs": [],
   "source": [
    "# transactions of orderbook\n",
    "payload = {\"jsonrpc\": \"2.0\", \"id\": 1, \"method\": \"getSignaturesForAddress\", \"params\": [collection_orderbook, {\"limit\": total_transactions }]}\n",
    "r = requests.post(url, json=payload, headers=headers)\n",
    "data = r.json()\n",
    "signature_list = []\n",
    "for x in data['result']:\n",
    "    if x['confirmationStatus'] != 'processed':\n",
    "        signature_list.append(x['signature'])\n",
    "time.sleep(quick_break)\n",
    "if r.status_code != 200: print(r.status_code) "
   ]
  },
  {
   "cell_type": "code",
   "execution_count": 4,
   "metadata": {},
   "outputs": [],
   "source": [
    "# offered loans \n",
    "blocktime_list = []\n",
    "user_list = []\n",
    "escrow_list = []\n",
    "for i in signature_list:\n",
    "    payload = {\"jsonrpc\": \"2.0\", \"id\": 1, \"method\": \"getTransaction\", \"params\": [i, \"json\"]}\n",
    "    r = requests.post(url, json=payload, headers=headers)\n",
    "    data = r.json()\n",
    "    if list(data.keys())[1] == 'result':\n",
    "        count = 0\n",
    "        for x in data['result']['meta']['logMessages']:\n",
    "            if 'OfferLoan' in x:\n",
    "                count += 1 \n",
    "        blocktime = data['result']['blockTime'] \n",
    "        accounts = data['result']['transaction']['message']['accountKeys'] \n",
    "        instructions = data['result']['transaction']['message']['instructions']\n",
    "        if count == 1:\n",
    "            blocktime_list.append(blocktime)\n",
    "            user_list.append(accounts[0]) \n",
    "            escrow_list.append(accounts[instructions[2]['accounts'][4]])   \n",
    "        if count == 3:\n",
    "            blocktime_list.extend([blocktime, blocktime, blocktime])\n",
    "            user_list.extend([accounts[0], accounts[0], accounts[0]]) \n",
    "            escrow_list.extend([accounts[instructions[2]['accounts'][4]], accounts[instructions[3]['accounts'][4]], accounts[instructions[4]['accounts'][4]]])      \n",
    "        if count == 9:\n",
    "            print('9 loans')\n",
    "    if r.status_code != 200: \n",
    "        print(r.status_code)\n",
    "        break   \n",
    "    time.sleep(quick_break)"
   ]
  },
  {
   "cell_type": "code",
   "execution_count": 5,
   "metadata": {},
   "outputs": [],
   "source": [
    "# offered amount of loans \n",
    "amount_list = []\n",
    "for x in range(0, len(escrow_list), limit_balances):\n",
    "    chunk = escrow_list[x:x+limit_balances]\n",
    "    payload = {\"jsonrpc\": \"2.0\", \"id\": 1, \"method\": \"getMultipleAccounts\", \"params\": [chunk,{\"encoding\": \"base58\"}]}\n",
    "    r = requests.post(url, json=payload, headers=headers)\n",
    "    data = r.json()\n",
    "    for x in data['result']['value']:\n",
    "        if x is not None:\n",
    "            amount_list.append(x['lamports'])\n",
    "        else:\n",
    "            amount_list.append(0)  \n",
    "    if r.status_code != 200: \n",
    "        print(r.status_code)\n",
    "        break           \n",
    "    time.sleep(quick_break)"
   ]
  },
  {
   "cell_type": "code",
   "execution_count": 6,
   "metadata": {},
   "outputs": [
    {
     "data": {
      "text/html": [
       "<div>\n",
       "<style scoped>\n",
       "    .dataframe tbody tr th:only-of-type {\n",
       "        vertical-align: middle;\n",
       "    }\n",
       "\n",
       "    .dataframe tbody tr th {\n",
       "        vertical-align: top;\n",
       "    }\n",
       "\n",
       "    .dataframe thead th {\n",
       "        text-align: right;\n",
       "    }\n",
       "</style>\n",
       "<table border=\"1\" class=\"dataframe\">\n",
       "  <thead>\n",
       "    <tr style=\"text-align: right;\">\n",
       "      <th></th>\n",
       "      <th>amount</th>\n",
       "      <th>user_readable</th>\n",
       "      <th>datetime</th>\n",
       "    </tr>\n",
       "  </thead>\n",
       "  <tbody>\n",
       "    <tr>\n",
       "      <th>1</th>\n",
       "      <td>0.43</td>\n",
       "      <td>H9k___P3M</td>\n",
       "      <td>2024-10-29 05:10:33</td>\n",
       "    </tr>\n",
       "    <tr>\n",
       "      <th>2</th>\n",
       "      <td>0.42</td>\n",
       "      <td>GYe___Jzn</td>\n",
       "      <td>2024-10-29 01:04:56</td>\n",
       "    </tr>\n",
       "    <tr>\n",
       "      <th>3</th>\n",
       "      <td>0.42</td>\n",
       "      <td>GYe___Jzn</td>\n",
       "      <td>2024-10-29 01:04:56</td>\n",
       "    </tr>\n",
       "    <tr>\n",
       "      <th>4</th>\n",
       "      <td>0.42</td>\n",
       "      <td>GYe___Jzn</td>\n",
       "      <td>2024-10-29 01:04:56</td>\n",
       "    </tr>\n",
       "    <tr>\n",
       "      <th>5</th>\n",
       "      <td>0.37</td>\n",
       "      <td>DGL___tgA</td>\n",
       "      <td>2024-10-29 12:36:13</td>\n",
       "    </tr>\n",
       "    <tr>\n",
       "      <th>6</th>\n",
       "      <td>0.37</td>\n",
       "      <td>DGL___tgA</td>\n",
       "      <td>2024-10-29 14:10:53</td>\n",
       "    </tr>\n",
       "    <tr>\n",
       "      <th>7</th>\n",
       "      <td>0.36</td>\n",
       "      <td>2n6___dgB</td>\n",
       "      <td>2024-10-25 10:09:40</td>\n",
       "    </tr>\n",
       "    <tr>\n",
       "      <th>8</th>\n",
       "      <td>0.36</td>\n",
       "      <td>2n6___dgB</td>\n",
       "      <td>2024-10-25 10:09:40</td>\n",
       "    </tr>\n",
       "    <tr>\n",
       "      <th>9</th>\n",
       "      <td>0.26</td>\n",
       "      <td>DGL___tgA</td>\n",
       "      <td>2024-10-29 14:12:03</td>\n",
       "    </tr>\n",
       "  </tbody>\n",
       "</table>\n",
       "</div>"
      ],
      "text/plain": [
       "   amount user_readable             datetime\n",
       "1    0.43     H9k___P3M  2024-10-29 05:10:33\n",
       "2    0.42     GYe___Jzn  2024-10-29 01:04:56\n",
       "3    0.42     GYe___Jzn  2024-10-29 01:04:56\n",
       "4    0.42     GYe___Jzn  2024-10-29 01:04:56\n",
       "5    0.37     DGL___tgA  2024-10-29 12:36:13\n",
       "6    0.37     DGL___tgA  2024-10-29 14:10:53\n",
       "7    0.36     2n6___dgB  2024-10-25 10:09:40\n",
       "8    0.36     2n6___dgB  2024-10-25 10:09:40\n",
       "9    0.26     DGL___tgA  2024-10-29 14:12:03"
      ]
     },
     "execution_count": 6,
     "metadata": {},
     "output_type": "execute_result"
    }
   ],
   "source": [
    "# top loan offers\n",
    "offers = pd.DataFrame({'blocktime': blocktime_list, 'amount': amount_list, 'user': user_list, 'escrow': escrow_list,})\n",
    "offers['amount'] *= 0.000000001\n",
    "offers['amount'] = round(offers['amount'], 2)\n",
    "offers['user_readable'] = offers['user'].str[0:3] + '___' + offers['user'].str[-3:]\n",
    "offers['datetime'] = pd.to_datetime(offers['blocktime'], unit='s').dt.strftime('%Y-%m-%d %H:%M:%S')\n",
    "offers_desc = offers[offers['amount'] > 0.01][['amount', 'user_readable', 'datetime']].sort_values(['amount', 'datetime'], ascending=[False, True]).reset_index(drop=True)\n",
    "offers_desc.index += 1\n",
    "offers_desc"
   ]
  },
  {
   "cell_type": "code",
   "execution_count": 7,
   "metadata": {},
   "outputs": [
    {
     "data": {
      "text/plain": [
       "200"
      ]
     },
     "execution_count": 7,
     "metadata": {},
     "output_type": "execute_result"
    }
   ],
   "source": [
    "# last updated 2024/10/29\n",
    "# this notebook uses a public rpc api, if in the cel output below you are getting a 429, you have been rate limited, in that case please work with a private rpc api and replace the url variable in the second cel \n",
    "r.status_code"
   ]
  }
 ],
 "metadata": {
  "kernelspec": {
   "display_name": "hellomoon",
   "language": "python",
   "name": "python3"
  },
  "language_info": {
   "codemirror_mode": {
    "name": "ipython",
    "version": 3
   },
   "file_extension": ".py",
   "mimetype": "text/x-python",
   "name": "python",
   "nbconvert_exporter": "python",
   "pygments_lexer": "ipython3",
   "version": "3.11.10"
  }
 },
 "nbformat": 4,
 "nbformat_minor": 2
}
